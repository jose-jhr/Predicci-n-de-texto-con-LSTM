{
  "cells": [
    {
      "cell_type": "markdown",
      "metadata": {
        "id": "mX8gZlVyCCbz"
      },
      "source": [
        "# Modelos del lenguaje con RNNs\n",
        "\n",
        "En esta parte, vamos a entrenar un modelo del lenguaje basado en caracteres con Recurrent Neural Networks. Asimismo, utilizará el modelo para generar texto. En particular,su modelo tiene obras de la literatura clásica en castellano para obtener una red neuronal que sea capaz de \"escribir\" fragmentos literarios.\n",
        "\n",
        "Los entrenamientos para obtener un modelo de calidad podrían tomar cierto tiempo (5-10 minutos por epoch), tener presente que GPU no funciona tan bien con LSTM, por tanto el modelo se debe generar con tiempo.\n",
        "\n",
        "El dataset a utilizar contiene un archivo de texto con el contenido del castellano antiguo de **El Ingenioso Hidalgo Don Quijote de la Mancha**, disponible de manera libre en la página de [Project Gutenberg](https://www.gutenberg.org). Asimismo, usted podrá utilizar otras clases de texto\n",
        "\n",
        "[El ingenioso hidalgo Don Quijote de la Mancha (Miguel de Cervantes)](https://onedrive.live.com/download?cid=C506CF0A4F373B0F&resid=C506CF0A4F373B0F%219424&authkey=AH0gb-qSo5Xd7Io)\n",
        "\n",
        "[Compilación de obras teatrales (Calderón de la Barca)](https://onedrive.live.com/download?cid=C506CF0A4F373B0F&resid=C506CF0A4F373B0F%219433&authkey=AKvGD6DC3IRBqmc)\n",
        "\n",
        "[Trafalgar (Benito Pérez Galdós)](https://onedrive.live.com/download?cid=C506CF0A4F373B0F&resid=C506CF0A4F373B0F%219434&authkey=AErPCAtMKOI5tYQ)\n",
        "\n",
        "verifique los datos antes de comenzar"
      ]
    },
    {
      "cell_type": "markdown",
      "metadata": {
        "id": "QI274F8LQC59"
      },
      "source": [
        "## 1. Carga y procesado del texto"
      ]
    },
    {
      "cell_type": "markdown",
      "metadata": {
        "id": "MZNnzvXuqVVm"
      },
      "source": [
        "Primero, descargue el libro e inspeccionar los datos. El fichero a descargar es una versión en .txt del libro de Don Quijote, a la cual se le han borrado introducciones, licencias y otras secciones para dejarlo con el contenido real de la novela."
      ]
    },
    {
      "cell_type": "code",
      "execution_count": 1,
      "metadata": {
        "colab": {
          "base_uri": "https://localhost:8080/"
        },
        "id": "D7tKOZ9BFfki",
        "outputId": "448b117f-8a8f-4057-fac4-8a9c04de03a7"
      },
      "outputs": [
        {
          "output_type": "stream",
          "name": "stdout",
          "text": [
            "Downloading data from https://onedrive.live.com/download?cid=C506CF0A4F373B0F&resid=C506CF0A4F373B0F%219424&authkey=AH0gb-qSo5Xd7Io\n",
            "2151176/2151176 [==============================] - 1s 0us/step\n"
          ]
        }
      ],
      "source": [
        "import numpy as np\n",
        "import keras\n",
        "import matplotlib.pyplot as plt\n",
        "from keras.callbacks import LambdaCallback\n",
        "from keras.models import Sequential\n",
        "from keras.layers import Dense\n",
        "from keras.layers import Dropout\n",
        "from keras.layers import LSTM\n",
        "import sys\n",
        "import random\n",
        "import io\n",
        "\n",
        "path = keras.utils.get_file(\n",
        "    fname=\"don_quijote.txt\",\n",
        "    origin=\"https://onedrive.live.com/download?cid=C506CF0A4F373B0F&resid=C506CF0A4F373B0F%219424&authkey=AH0gb-qSo5Xd7Io\"\n",
        ")"
      ]
    },
    {
      "cell_type": "markdown",
      "metadata": {
        "id": "VYGLvjLXrUUd"
      },
      "source": [
        "Cundo lea el documento trate de colocar en minuscula el texto para que sea más facil de elaborar.\n",
        "\n",
        "**1.1.** Leer todo el contenido del texto en una única variable ***text*** y convertir el string a minúsculas"
      ]
    },
    {
      "cell_type": "code",
      "execution_count": 2,
      "metadata": {
        "id": "8WB6FejrrTu9"
      },
      "outputs": [],
      "source": [
        "with open(path, encoding=\"utf8\") as f:\n",
        "  text = f.read().lower()"
      ]
    },
    {
      "cell_type": "code",
      "execution_count": 3,
      "metadata": {
        "colab": {
          "base_uri": "https://localhost:8080/"
        },
        "id": "knyzgX0XnGfm",
        "outputId": "8d5e0257-5caa-451b-bc99-1f9bd2dadf61"
      },
      "outputs": [
        {
          "output_type": "execute_result",
          "data": {
            "text/plain": [
              "2071198"
            ]
          },
          "metadata": {},
          "execution_count": 3
        }
      ],
      "source": [
        "len(text)"
      ]
    },
    {
      "cell_type": "markdown",
      "metadata": {
        "id": "dkgGl8GWtUk8"
      },
      "source": [
        "Puede comprobar que se ha realizado la variación y que el texto se encuentra en minuscula."
      ]
    },
    {
      "cell_type": "code",
      "execution_count": 4,
      "metadata": {
        "colab": {
          "base_uri": "https://localhost:8080/"
        },
        "id": "hMFhe3COFwSD",
        "outputId": "e68ae858-0e07-4d1b-a875-46b6ca0e2c10"
      },
      "outputs": [
        {
          "output_type": "stream",
          "name": "stdout",
          "text": [
            "Longitud del texto: 2071198\n",
            "capítulo primero. que trata de la condición y ejercicio del famoso hidalgo\n",
            "don quijote de la mancha\n",
            "\n",
            "\n",
            "en un lugar de la mancha, de cuyo nombre no quiero acordarme, no ha mucho\n",
            "tiempo que vivía un hidalgo de los de lanza en astillero, adarga antigua,\n",
            "rocín flaco y galgo corredor. una olla de algo más vaca que carnero,\n",
            "salpicón las más noches, duelos y quebrantos los sábados, lantejas los\n",
            "viernes, algún palomino de añadidura los domingos, consumían las tres\n",
            "partes de su hacienda. el resto della co\n"
          ]
        }
      ],
      "source": [
        "print(\"Longitud del texto: {}\".format(len(text)))\n",
        "print(text[0:500])"
      ]
    },
    {
      "cell_type": "markdown",
      "metadata": {
        "id": "bZ7TUXWiyvOj"
      },
      "source": [
        "## 2. Procesado de los datos"
      ]
    },
    {
      "cell_type": "markdown",
      "metadata": {
        "id": "x66_Vi_Gyxns"
      },
      "source": [
        "Una de las grandes ventajas de trabajar con modelos que utilizan caracteres en vez de palabras es que no necesita tokenizar el texto (partirlo palabra a palabra). Su modelo funcionará directamente con los caracteres en el texto, incluyendo espacios, saltos de línea, etc.\n",
        "\n",
        "Antes de hacer el ejercicio, debe procesar el texto en entradas y salidas compatibles el modelo. Como sabe, un modelo del lenguaje con RNNs acepta una serie de caracteres y predice el siguiente carácter en la secuencia.\n",
        "\n",
        "* \"*El ingenioso don Qui*\" -> predicción: **j**\n",
        "* \"*El ingenioso don Quij*\" -> predicción: **o**\n",
        "\n",
        "De modo que la entrada y la salida de su modelo necesita ser algo parecido a este esquema. En este punto, podría usar dos formas de preparar los datos para este modelo.\n",
        "\n",
        "1. **Secuencia a secuencia**. La entrada del modelo sería una secuencia y la salida sería esa secuencia trasladada un caracter a la derecha, de modo que en cada instante de tiempo la RNN tiene que predecir el carácter siguiente. Por ejemplo:\n",
        "\n",
        ">* *Input*:   El ingenioso don Quijot\n",
        ">* *Output*: l ingenioso don Quijote\n",
        "\n",
        "2. **Secuencia a carácter**. En este variante, pasa una secuencia de caracteres por la RNN y, al llegar al final de la secuencia, se predice el siguiente carácter.\n",
        "\n",
        ">* *Input*:   El ingenioso don Quijot\n",
        ">* *Output*: e\n",
        "\n",
        "En este trabajo, por simplicidad, se utilizará la segunda variante.\n",
        "Utilice secuencias de tamaño *SEQ_LENGTH* caracteres (y elija el hiperparámetro ).\n",
        "\n"
      ]
    },
    {
      "cell_type": "markdown",
      "metadata": {
        "id": "mkfJUIxW5m5C"
      },
      "source": [
        "#### 2.1. Obtención de los caracteres y mapas de caracteres\n",
        "\n",
        "Antes que nada, necesita saber qué caracteres aparecen en el texto, ya que tiene que diferenciarlos mediante un índice de 0 a *num_chars* - 1 en el modelo. Obtener:\n",
        "\n",
        "\n",
        "1.   Número de caracteres únicos que aparecen en el texto.\n",
        "2.   Diccionario que asocia char a índice único entre 0 y *num_chars* - 1. Por ejemplo, {'a': 0, 'b': 1, ...}\n",
        "3.   Diccionario reverso de índices a caracteres: {0: 'a', 1: 'b', ...}\n"
      ]
    },
    {
      "cell_type": "code",
      "execution_count": 5,
      "metadata": {
        "id": "5bJ0NsbCbupF"
      },
      "outputs": [],
      "source": [
        "chars=sorted(list(set(text)))\n",
        "char_indices = dict((c,i) for i, c in enumerate(chars))\n",
        "indice_char = dict((i, c) for i, c in enumerate(chars))"
      ]
    },
    {
      "cell_type": "code",
      "execution_count": 6,
      "metadata": {
        "colab": {
          "base_uri": "https://localhost:8080/"
        },
        "id": "hTMi-94I7HKi",
        "outputId": "0acb3255-178a-43fd-e636-3714b9724fae"
      },
      "outputs": [
        {
          "output_type": "execute_result",
          "data": {
            "text/plain": [
              "{'\\n': 0,\n",
              " ' ': 1,\n",
              " '!': 2,\n",
              " '\"': 3,\n",
              " \"'\": 4,\n",
              " '(': 5,\n",
              " ')': 6,\n",
              " ',': 7,\n",
              " '-': 8,\n",
              " '.': 9,\n",
              " '0': 10,\n",
              " '1': 11,\n",
              " '2': 12,\n",
              " '3': 13,\n",
              " '4': 14,\n",
              " '5': 15,\n",
              " '6': 16,\n",
              " '7': 17,\n",
              " ':': 18,\n",
              " ';': 19,\n",
              " '?': 20,\n",
              " ']': 21,\n",
              " 'a': 22,\n",
              " 'b': 23,\n",
              " 'c': 24,\n",
              " 'd': 25,\n",
              " 'e': 26,\n",
              " 'f': 27,\n",
              " 'g': 28,\n",
              " 'h': 29,\n",
              " 'i': 30,\n",
              " 'j': 31,\n",
              " 'l': 32,\n",
              " 'm': 33,\n",
              " 'n': 34,\n",
              " 'o': 35,\n",
              " 'p': 36,\n",
              " 'q': 37,\n",
              " 'r': 38,\n",
              " 's': 39,\n",
              " 't': 40,\n",
              " 'u': 41,\n",
              " 'v': 42,\n",
              " 'w': 43,\n",
              " 'x': 44,\n",
              " 'y': 45,\n",
              " 'z': 46,\n",
              " '¡': 47,\n",
              " '«': 48,\n",
              " '»': 49,\n",
              " '¿': 50,\n",
              " 'à': 51,\n",
              " 'á': 52,\n",
              " 'é': 53,\n",
              " 'í': 54,\n",
              " 'ï': 55,\n",
              " 'ñ': 56,\n",
              " 'ó': 57,\n",
              " 'ù': 58,\n",
              " 'ú': 59,\n",
              " 'ü': 60}"
            ]
          },
          "metadata": {},
          "execution_count": 6
        }
      ],
      "source": [
        "#indice_char\n",
        "char_indices\n",
        "#len(chars) # se obtienen 61 caracteres"
      ]
    },
    {
      "cell_type": "markdown",
      "metadata": {
        "id": "Y_B4AWo0ElwA"
      },
      "source": [
        "#### 2.2. Obtención de secuencias de entrada y carácter a predecir\n",
        "\n",
        "Ahora, obtenga la secuencias de entrada en formato texto y los correspondientes caracteres a predecir. Para ello, recorra el texto completo leído anteriormente, obteniendo una secuencia de SEQ_LENGTH caracteres y el siguiente caracter a predecir. Una vez hecho, mueva un carácter a la izquierda y hacer lo mismo para obtener una nueva secuencia y predicción. Guarde las secuencias en una variable ***sequences*** y los caracteres a predecir en una variable ***next_chars***.\n",
        "\n",
        "Por ejemplo, si el texto fuera \"Don Quijote\" y SEQ_LENGTH fuese 5, tendríamos\n",
        "\n",
        "* *sequences* = [\"Don Q\", \"on Qu\", \"n Qui\", \" Quij\", \"Quijo\", \"uijot\"]\n",
        "* *next_chars* = ['u', 'i', 'j', 'o', 't', 'e']"
      ]
    },
    {
      "cell_type": "code",
      "execution_count": 7,
      "metadata": {
        "id": "NslxhnnDK6uA"
      },
      "outputs": [],
      "source": [
        "# Definia el tamaño de las secuencias. Puede dejar este valor por defecto.\n",
        "SEQ_LENGTH = 35\n",
        "step=3\n",
        "rawX = []\n",
        "rawy = []\n",
        "\n",
        "for i in range(0, len(text) - SEQ_LENGTH, step):\n",
        "    rawX.append(text[i: i+SEQ_LENGTH])\n",
        "    rawy.append(text[i+SEQ_LENGTH])"
      ]
    },
    {
      "cell_type": "markdown",
      "metadata": {
        "id": "1Y3AmjYtHdLJ"
      },
      "source": [
        "Indicar el tamaño del training set que acabamos de generar."
      ]
    },
    {
      "cell_type": "code",
      "execution_count": 8,
      "metadata": {
        "id": "WVWqKxFcbwTu"
      },
      "outputs": [],
      "source": [
        "## SU CÓDIGO AQUÍ\n",
        "#n_sentences=len(rawX)\n",
        "#n_sentences"
      ]
    },
    {
      "cell_type": "markdown",
      "metadata": {
        "id": "goGQkKcwpLRJ"
      },
      "source": [
        "Como el Quijote es muy largo y tiene muchas secuencias, puede encontrar problemas de memoria. Por ello, elegija un número máximo de ellas. Si estás corriendo esto localmente y tienes problemas de memoria, puedes reducir el tamaño aún más, pero tenga cuidado porque, a menos datos, peor calidad del modelo."
      ]
    },
    {
      "cell_type": "code",
      "execution_count": 9,
      "metadata": {
        "id": "97SXdkJX7HKw",
        "colab": {
          "base_uri": "https://localhost:8080/"
        },
        "outputId": "33930512-cb3f-4f8f-c6b3-6340ef8efea5"
      },
      "outputs": [
        {
          "output_type": "stream",
          "name": "stdout",
          "text": [
            "200000\n"
          ]
        }
      ],
      "source": [
        "MAX_SEQUENCES = 200000\n",
        "\n",
        "perm = np.random.permutation(len(rawX)) #Permutar aleatoriamente una secuencia, o devolver un rango permutado.\n",
        "rawX, rawy = np.array(rawX), np.array(rawy)\n",
        "rawX, rawy = rawX[perm], rawy[perm]\n",
        "rawX, rawy = list(rawX[:MAX_SEQUENCES]), list(rawy[:MAX_SEQUENCES])\n",
        "\n",
        "print(len(rawX))"
      ]
    },
    {
      "cell_type": "markdown",
      "metadata": {
        "id": "4FzgtAbPIs6f"
      },
      "source": [
        "#### 2.3. Obtención de input X y output y para el modelo\n",
        "\n",
        "Finalmente, a partir de los datos de entrenamiento que hemos generado vamos a cree los arrays de datos X e y que pasará a su modelo.\n",
        "\n",
        "Para ello, utilice *one-hot encoding* para el caracteres. Por ejemplo, si sólo tiene 4 caracteres (a, b, c, d), las representaciones serían: (1, 0, 0, 0), (0, 1, 0, 0), (0, 0, 1, 0) y (0, 0, 0, 1).\n",
        "\n",
        "De este modo, **X** tendrá shape *(num_sequences, seq_length, num_chars)* e **y** tendrá shape *(num_sequences, num_chars)*.\n",
        "\n"
      ]
    },
    {
      "cell_type": "code",
      "execution_count": 10,
      "metadata": {
        "id": "lBwJi3_Dsb2x"
      },
      "outputs": [],
      "source": [
        "X = np.zeros((len(rawX), SEQ_LENGTH , len(chars)))\n",
        "y = np.zeros((len(rawX), len(chars)))"
      ]
    },
    {
      "cell_type": "code",
      "execution_count": 11,
      "metadata": {
        "id": "8F7lUsqLs5T9"
      },
      "outputs": [],
      "source": [
        "for i, sentence in enumerate(rawX):\n",
        "    for t, char in enumerate(sentence):\n",
        "        X[i, t, char_indices[char]] = 1\n",
        "    y[i, char_indices[rawy[i]]] = 1"
      ]
    },
    {
      "cell_type": "markdown",
      "metadata": {
        "id": "IxeUxz3HPm3l"
      },
      "source": [
        "## 3. Definición del modelo y entrenamiento\n",
        "\n",
        "Una vez tiene todo,  defina el modelo. Defina un modelo que utilice una **LSTM** con **128 unidades internas**. Si bien el modelo puede definirse de una manera más compleja, para empezar debería bastar con una LSTM más una capa Dense con el *softmax* que predice el siguiente caracter a producir. Adam puede ser una buena elección de optimizador.\n",
        "\n",
        "Una vez el modelo esté definido, entrénelo un poco para asegurarse de que la loss es decreciente."
      ]
    },
    {
      "cell_type": "code",
      "execution_count": 12,
      "metadata": {
        "id": "MSw2j0btYWZs",
        "colab": {
          "base_uri": "https://localhost:8080/"
        },
        "outputId": "aa51105c-6650-4fac-d76c-1daa7580c4f3"
      },
      "outputs": [
        {
          "output_type": "stream",
          "name": "stdout",
          "text": [
            "Model: \"sequential\"\n",
            "_________________________________________________________________\n",
            " Layer (type)                Output Shape              Param #   \n",
            "=================================================================\n",
            " lstm (LSTM)                 (None, 128)               97280     \n",
            "                                                                 \n",
            " dropout (Dropout)           (None, 128)               0         \n",
            "                                                                 \n",
            " dense (Dense)               (None, 61)                7869      \n",
            "                                                                 \n",
            "=================================================================\n",
            "Total params: 105149 (410.74 KB)\n",
            "Trainable params: 105149 (410.74 KB)\n",
            "Non-trainable params: 0 (0.00 Byte)\n",
            "_________________________________________________________________\n"
          ]
        }
      ],
      "source": [
        "model= Sequential()\n",
        "model.add(LSTM(128, input_shape=(SEQ_LENGTH, len(chars))))\n",
        "model.add(Dropout(0.2))\n",
        "model.add(Dense(len(chars), activation= \"softmax\"))\n",
        "model.summary()"
      ]
    },
    {
      "cell_type": "markdown",
      "source": [],
      "metadata": {
        "id": "-PmivbtXaVhF"
      }
    },
    {
      "cell_type": "code",
      "execution_count": 13,
      "metadata": {
        "id": "BYrEhi3mxQoY"
      },
      "outputs": [],
      "source": [
        "model.compile(optimizer='adam', loss='categorical_crossentropy', metrics=['accuracy'])"
      ]
    },
    {
      "cell_type": "code",
      "execution_count": 14,
      "metadata": {
        "id": "1B9RW3-Qxcf9"
      },
      "outputs": [],
      "source": [
        "#model.fit(X, y, batch_size=128, epochs=20, verbose=0)"
      ]
    },
    {
      "cell_type": "markdown",
      "metadata": {
        "id": "3yUFHS4kHkyY"
      },
      "source": [
        "Para ver cómo evoluciona SU modelo del lenguaje,  genere texto según va entrenando. Para ello, programe una función que, utilizando el modelo en su estado actual, genere texto, con la idea de ver cómo se va generando texto al entrenar cada epoch.\n",
        "\n",
        "En el código de abajo puede ver una función auxiliar para obtener valores de una distribución multinomial. Esta función se usará para muestrear el siguiente carácter a utilizar según las probabilidades de la salida de softmax (en vez de tomar directamente el valor con la máxima probabilidad, obtiene un valor aleatorio según la distribución de probabilidad dada por softmax, de modo que los resultados serán más diversos, pero seguirán teniendo \"sentido\" ya que el modelo tenderá a seleccionar valores con más probabilidad).\n",
        "\n"
      ]
    },
    {
      "cell_type": "code",
      "execution_count": 15,
      "metadata": {
        "id": "LoGYpWOHd7Lr"
      },
      "outputs": [],
      "source": [
        "def sample(probs, temperature=1.0):\n",
        "    \"\"\"Nos da el índice del elemento a elegir según la distribución\n",
        "    de probabilidad dada por probs.\n",
        "\n",
        "    Args:\n",
        "      probs es la salida dada por una capa softmax:\n",
        "        probs = model.predict(x_to_predict)[0]\n",
        "\n",
        "      temperature es un parámetro que nos permite obtener mayor\n",
        "        \"diversidad\" a la hora de obtener resultados.\n",
        "\n",
        "        temperature = 1 nos da la distribución normal de softmax\n",
        "        0 < temperature < 1 hace que el sampling sea más conservador,\n",
        "          de modo que sampleamos cosas de las que estamos más seguros\n",
        "        temperature > 1 hace que los samplings sean más atrevidos,\n",
        "          eligiendo en más ocasiones clases con baja probabilidad.\n",
        "          Con esto, tenemos mayor diversidad pero se cometen más\n",
        "          errores.\n",
        "    \"\"\"\n",
        "    # Cast a float64 por motivos numéricos\n",
        "    probs = np.asarray(probs).astype('float64')\n",
        "\n",
        "    # logaritmo de probabilidades y aplicamos reducción\n",
        "    # por temperatura.\n",
        "    probs = np.log(probs) / temperature\n",
        "\n",
        "    # Volvemos a aplicar exponencial y normalizamos de nuevo\n",
        "    exp_probs = np.exp(probs)\n",
        "    probs = exp_probs / np.sum(exp_probs)\n",
        "\n",
        "    # Hacemos el sampling dadas las nuevas probabilidades\n",
        "    # de salida (ver doc. de np.random.multinomial)\n",
        "    samples = np.random.multinomial(1, probs, 1)\n",
        "    return np.argmax(samples)\n"
      ]
    },
    {
      "cell_type": "markdown",
      "metadata": {
        "id": "3fejfZldd4ou"
      },
      "source": [
        "Utilizando la función anterior y el modelo entrenado, añadir un callback a al modelo para que, según vaya entrenando, se vean los valores que resultan de generar textos con distintas temperaturas al acabar cada epoch.\n",
        "\n",
        "Para ello, abajo tienedisponible el callback *on_epoch_end*. Esta función elige una secuencia de texto al azar en el texto disponible en la variable\n",
        "text y genera textos de longitud *GENERATED_TEXT_LENGTH* según las temperaturas en *TEMPERATURES_TO_TRY*, utilizando para ello la función *generate_text*.\n",
        "\n",
        "Complete la función *generate_text* de modo que utilice el modelo y la función sample para generar texto.\n",
        "\n",
        "NOTA: Cuando haga model.predict, es aconsejable usar verbose=0 como argumento para evitar que la función imprima valores de salida."
      ]
    },
    {
      "cell_type": "code",
      "execution_count": 16,
      "metadata": {
        "id": "xOEZvnBXkODd"
      },
      "outputs": [],
      "source": [
        "TEMPERATURES_TO_TRY = [0.2] #, 0.5, 1.0, 1.2]\n",
        "GENERATED_TEXT_LENGTH = 300\n",
        "\n",
        "def generate_text(seed_text, model, length=300, temperature=1, max_length=30):\n",
        "    \"\"\"Genera una secuencia de texto a partir de seed_text utilizando model.\n",
        "\n",
        "    La secuencia tiene longitud length y el sampling se hace con la temperature\n",
        "    definida.\n",
        "    \"\"\"\n",
        "\n",
        "    # Aquí guardaremos nuestro texto generado, que incluirá el\n",
        "    # texto origen\n",
        "    generated = seed_text\n",
        "\n",
        "    # Utilizar el modelo en un bucle de manera que generemos\n",
        "    # carácter a carácter. Habrá que construir los valores de\n",
        "    # X_pred de manera similar a como hemos hecho arriba, salvo que\n",
        "    # aquí sólo se necesita una oración\n",
        "    # Nótese que el x que utilicemos tiene que irse actualizando con\n",
        "    # los caracteres que se van generando. La secuencia de entrada al\n",
        "    # modelo tiene que ser una secuencia de tamaño SEQ_LENGTH que\n",
        "    # incluya el último caracter predicho.\n",
        "\n",
        "    ### TU CÓDIGO AQUÍ\n",
        "    prediction = []\n",
        "\n",
        "        #textReturn\n",
        "    textReturn = \"\"\n",
        "\n",
        "    for i in range(length):\n",
        "        # Make numpy array to hold seed\n",
        "        X = np.zeros((1, len(generated), len(chars) ))\n",
        "\n",
        "        # Set one-hot vectors for seed sequence\n",
        "        for t, char in enumerate(seed_text):\n",
        "            X[0, t, char_indices[char]] = 1\n",
        "\n",
        "        # Generate prediction for next character\n",
        "        preds = model.predict(X, verbose=0)[0]\n",
        "        # Choose a character from the prediction probabilities\n",
        "        next_index = sample(preds,0.2)\n",
        "        next_char = indice_char[next_index]\n",
        "\n",
        "        prediction.append(next_char)\n",
        "        textReturn = textReturn+next_char\n",
        "        # Add the predicted character to the seed sequence so the next prediction\n",
        "        # includes this character in it's seed.\n",
        "        #generated += next_char\n",
        "        seed_text = seed_text[1:] + next_char\n",
        "\n",
        "        print(next_char, end= \" \");\n",
        "        # Flush so we can see the prediction as it's generated\n",
        "        sys.stdout.flush()\n",
        "\n",
        "    prediction = ''.join(prediction)\n",
        "    sys.stdout.flush()\n",
        "\n",
        "    ### FIN DE TU CÓDIGO\n",
        "    return textReturn\n",
        "\n",
        "\n",
        "def on_epoch_end(epoch, logs):\n",
        "  print(\"\\n\\n\\n\")\n",
        "\n",
        "  # Primero, seleccionamos una secuencia al azar para empezar a predecir\n",
        "  # a partir de ella\n",
        "  start_pos = random.randint(0, len(text) - SEQ_LENGTH - 1)\n",
        "  seed_text = text[start_pos:start_pos + SEQ_LENGTH]\n",
        "  for temperature in TEMPERATURES_TO_TRY:\n",
        "    print(\"------> Epoch: {} - Generando texto con temperature {}\".format(\n",
        "        epoch + 1, temperature))\n",
        "\n",
        "    generated_text = generate_text(seed_text, model,\n",
        "                                   GENERATED_TEXT_LENGTH, temperature)\n",
        "    print(\"Seed: {}\".format(seed_text))\n",
        "    print(\"Texto generado: {}\".format(generated_text))\n",
        "\n",
        "\n",
        "generation_callback = LambdaCallback(on_epoch_end=on_epoch_end)"
      ]
    },
    {
      "cell_type": "markdown",
      "metadata": {
        "id": "BSMYZ2JdrSJg"
      },
      "source": [
        "Entrene ahora su modelo. No se olvides de añadir *generation_callback* a la lista de callbacks utilizados en fit(). Ya que las métricas de clasificación no son tan críticas aquí (no nos importa tanto acertar el carácter exacto, sino obtener una distribución de probabilidad adecuada), no es necesario monitorizar la accuracy ni usar validation data, si bien puedes añadirlos para asegurarte de que todo está en orden.\n"
      ]
    },
    {
      "cell_type": "code",
      "source": [
        "print(rawX[0])"
      ],
      "metadata": {
        "colab": {
          "base_uri": "https://localhost:8080/"
        },
        "id": "ivMQDVm1ej9o",
        "outputId": "d8e3aa37-fca5-4391-cc11-46ddb9854615"
      },
      "execution_count": 17,
      "outputs": [
        {
          "output_type": "stream",
          "name": "stdout",
          "text": [
            "eces en mi entendimiento sobre vues\n"
          ]
        }
      ]
    },
    {
      "cell_type": "code",
      "source": [
        "def on_epoch_end(epoch, logs):\n",
        "  # Print training loss and accuracy\n",
        "  print(\"\\nEpoch: {}, Loss: {:.4f}, Accuracy: {:.2f}%\".format(\n",
        "      epoch + 1, logs['loss'], logs['accuracy'] * 100))\n",
        "  start_pos = random.randint(0, len(text) - SEQ_LENGTH - 1)\n",
        "  seed_text = text[start_pos:start_pos + SEQ_LENGTH]\n",
        "  # Generate text with a specific temperature\n",
        "  temperature = 0.2\n",
        "  #seed_text = rawX[0]\n",
        "  generated_text = generate_text(seed_text, model, length=300, temperature=temperature)\n",
        "  print(\"\\Text Send Text:\\n\", generated_text)\n",
        "  print(\"\\nGenerated Text:\\n\", generated_text)"
      ],
      "metadata": {
        "id": "YdlYJq3td5Ju"
      },
      "execution_count": 18,
      "outputs": []
    },
    {
      "cell_type": "code",
      "source": [
        "generation_callback = LambdaCallback(on_epoch_end=on_epoch_end)\n"
      ],
      "metadata": {
        "id": "hU-EX6hyd9jf"
      },
      "execution_count": 19,
      "outputs": []
    },
    {
      "cell_type": "code",
      "execution_count": 20,
      "metadata": {
        "id": "3oT7pNvjrP2e",
        "colab": {
          "base_uri": "https://localhost:8080/"
        },
        "outputId": "3a743b82-30a5-44d2-e541-2b634b5bc8ed"
      },
      "outputs": [
        {
          "output_type": "stream",
          "name": "stdout",
          "text": [
            "\n",
            "Epoch: 1, Loss: 2.5239, Accuracy: 27.50%\n",
            "  e n t o   e n   a s   s e   c a n t a   d e   l a   l a   p a r a   a n   e n t a   d e   l a   l a   a n t a r e s   e n   a n t a r a   a n   e n t a   d e   l a   a l a   d e   c a n   a n   c o n   e n t o   e n   l a   a l   e n t e r a   a n   e n t o r a   l a   l a   l a   s e n t a   d e   l a   c o n   l a   s e   l a   p a r a   d e   l a   p o r e   l a   l a   l a   c a r a s   d e   s e   p o r   e n t o   d e   c a n t a   a n   a n   c o n   a n t a s   e n   l a   c u e n t o   a   l a   d e   l e   l a   l a   a n t a r a   a n   s e n t o   a n   l a   l a   l a   c o n   \n",
            "Generated Text:\n",
            "  ento en as se canta de la la para an enta de la la antares en antara an enta de la ala de can an con ento en la al entera an entora la la la senta de la con la se la para de la pore la la la caras de se por ento de canta an an con antas en la cuento a la de le la la antara an sento an la la la con \n",
            "\n",
            "Epoch: 2, Loss: 2.1511, Accuracy: 34.22%\n",
            "t a   d e   l o s   d e   l a   p a r e n   q u e   l a   l a   d e   l a   c a n a s   l a   l a   l a   c o n   e n t o   d e   l a   d e n   l a s   a l a s   d e   d e   l a   l a   m a n t a   d e   m e n t a   d e   l a   m a n t o   e n   p a r a s   l a   c o n   e n t o   d e   m a n t a   d e   l a   d e   d e   l a   d e   l a   l a s   a n t o n   a   l a   c a n a   d e   l a   d e   l a   m e n t o   q u e   l a   m e n t a   d e   q u e   l a   h a n t a n   a l   a n t a r   a n   m o n   e n   l a   s e n t a   d e   c a n t e   d e   s e   l a   p a r a   d e   p o r   e n   \n",
            "Generated Text:\n",
            " ta de los de la paren que la la de la canas la la la con ento de la den las alas de de la la manta de menta de la manto en paras la con ento de manta de la de de la de la las anton a la cana de la de la mento que la menta de que la hantan al antar an mon en la senta de cante de se la para de por en \n",
            "\n",
            "Epoch: 3, Loss: 2.0499, Accuracy: 37.15%\n",
            "t r a   d e   l a   c a n t e   l a   s e n t e r   e n   l a   c a n t a   d e   e l   a l l o s   y   q u e   s e   p a r t a   s e   p o r   q u e   s e   l a   m e s t r a   d e   l a   p a r e s   d e   c o n t e r a   d e   l a   m e r t a   d e   l a   m e n t a   d e   l a   d e   l a   c a b i e n t e   l a   c a n t a   d e   p o r   e n   p o r   q u e   s e   l a   c a b a l l e   d e   l a   c a n t e   s e   e n   m a n t e   l a   m e n t a   d e   l a   s e   p u e s t r a   d e   l a   m e n t a   d e   l a   m e n t e   l a   c a n t o   d e   m e n t a   d e   l a   c o n d \n",
            "Generated Text:\n",
            " tra de la cante la senter en la canta de el allos y que se parta se por que se la mestra de la pares de contera de la merta de la menta de la de la cabiente la canta de por en por que se la caballe de la cante se en mante la menta de la se puestra de la menta de la mente la canto de menta de la cond\n",
            "\n",
            "Epoch: 4, Loss: 1.9749, Accuracy: 39.33%\n",
            "t r a   d e   l a   c a n t a   d e   l a   m e r a s   d e   l a   d e   m e   l a   m e r e s   d e   l a   m e r a d o   e n   l a   c a n t a n   e n   e n t e r   a   l o s   d e   l a   q u e   t o n   e l   m a n t e   s e   l o   q u e   e n   e l   c o m o   d e   l a   c a r a   d e   l a   c a b a l l e r a   q u e   e n   e n   e n   l a   c o n t a d o   d e   l a   d e s t o   d e   l a   c a n t a   d e   l a   m e r a d o   e n   l a   c a n t a   d e   l a   m e r a d o   e n   l a   c a n t e n d o   e n   a l g u n a   d e   l a   m a n t a   d e   l a   m e r a d o   q u e \n",
            "Generated Text:\n",
            " tra de la canta de la meras de la de me la meres de la merado en la cantan en enter a los de la que ton el mante se lo que en el como de la cara de la caballera que en en en la contado de la desto de la canta de la merado en la canta de la merado en la cantendo en alguna de la manta de la merado que\n",
            "\n",
            "Epoch: 5, Loss: 1.9122, Accuracy: 40.97%\n",
            "t r a   l a s   d e   l a s   c o n t e r a   d e   l a   p a n t e   d e   l a   c a b a l l e r o   e n   e l   c o n t e r o   d e   l a   c o n t e r a   d e   l a s   c o n t e r a   d e   s u   v e r t e   d e   l a   c u a l l o   d e   l a s   d e   s e   c o n t e r a   d e   l a   c o n t i r a   d e   l a   c a b a l l e r o   d e   l a   c a b a l l e r a   d e   l a   c a n t e r   e s t a   d e   m a n c h o   e n   e l   c u a l l e   d e   l a   c o n t e r a   d e   l o s   m e s t r o   d e   l a   c a b a l l e r a   d e   l a s   d e   s e   l a   m e r a   d e   l a s   p \n",
            "Generated Text:\n",
            " tra las de las contera de la pante de la caballero en el contero de la contera de las contera de su verte de la cuallo de las de se contera de la contira de la caballero de la caballera de la canter esta de mancho en el cualle de la contera de los mestro de la caballera de las de se la mera de las p\n",
            "\n",
            "Epoch: 6, Loss: 1.8615, Accuracy: 42.61%\n",
            "t r a   m e r i e n t o   e n   l a   m e n o   d e   l a   m e r o s   d e   l a   c o n t e n d o   a   l a   c a r t e   d e   l a   v e n t e r   d e   l a   c a b a l l e r o   d e   l a   m e r o s   d e   l a   c o n t e r r a   d e   l a   m e r i e n d o   e l   c a b a l l e r o   d e   l a   m e n o   e n   e l   c a b a l l e r o ,   y   a l l a   a   l a   c a r a   d e   l a   m e n o   d e   l a   m a n o   d e   l a   c a b a l l e r o   a   l a   m e r i e n t e   a   l a   c o n t e r a   d e   l a   m a n t e   d e   l a   c a r t a   l a   h a b í a   d e   l a   m e r o s \n",
            "Generated Text:\n",
            " tra meriento en la meno de la meros de la contendo a la carte de la venter de la caballero de la meros de la conterra de la meriendo el caballero de la meno en el caballero, y alla a la cara de la meno de la mano de la caballero a la meriente a la contera de la mante de la carta la había de la meros\n",
            "\n",
            "Epoch: 7, Loss: 1.8201, Accuracy: 43.69%\n",
            "t r a   m e r c e d   q u e   l a   m e r c e d   q u e   s e   e s t o   d e   l a   m e r o s   d e   l a s   m e s t o   c o n   e s t o   q u e   l a   m e n c i o   q u e   p o r   e s t o   a l g u n a   d e   l a   m e n t a   d e   l a   m e r o s   d e   l a   m e r o s   d e   s u   m e r a d o   a   l a   m e r a d o   d e   l a   v e n t a d o   q u e   l a   c a b a l l e r o   q u e   s e   h a b í a   m e r c e d   d e   l a   m a n o   p a r a   d e   l a   d e c i r   d e   l a   s e ñ o r   d e   l a   v e n t e   q u e   l a   m e n o   d e   l o s   p o r   s u   s e ñ o r \n",
            "Generated Text:\n",
            " tra merced que la merced que se esto de la meros de las mesto con esto que la mencio que por esto alguna de la menta de la meros de la meros de su merado a la merado de la ventado que la caballero que se había merced de la mano para de la decir de la señor de la vente que la meno de los por su señor\n",
            "\n",
            "Epoch: 8, Loss: 1.7803, Accuracy: 44.98%\n",
            "t r a   m e r c e d   d e   l a   c o n t e r i o   d e   l a   m a r o   a   l a   c o n t e r i o   d e   l a   m a n o   d e   l a   m a n o   a   l a   p a r e c e   e n   e l   c o n t e n d o   l o   q u e   l a   m a n o   a   m e r i e n d o   e l   c o n t e r i e n d o   e l   c o n t e n t o   e n   e l   m i n o   d e   l a   m e r o n d o   a   c o n   e n   l a   m o r e s ,   y   e s t e   l a   m a l a r   d e   l a   c o n t e n d o   e l   c o n t e n d o   e n   e l   c o n t e n d o   e n   e l   m a n o   a   l a   c o n t e r i o   d e   l a   m a n o   a   d e   l a   c \n",
            "Generated Text:\n",
            " tra merced de la conterio de la maro a la conterio de la mano de la mano a la parece en el contendo lo que la mano a meriendo el conteriendo el contento en el mino de la merondo a con en la mores, y este la malar de la contendo el contendo en el contendo en el mano a la conterio de la mano a de la c\n",
            "\n",
            "Epoch: 9, Loss: 1.7466, Accuracy: 45.93%\n",
            "t r a   m e r c e d ,   y   e s t a   a   t o d o   e s t a   m e r c e d   d e   l a   m e n o   a   s u   c a b a l l e r o   a   l a   m a n o   a   s u   l a   c a r t a   y   a   l a   c a b a l l e r o   a   l a   m a n o   a   m i   a   d e   l a   a c e r t a   d e   l a   v e n t a   d e   l a   m a n o   a   c o m o   s e   d e   l a   p a r t e   a   l a   s e ñ o r a   d e   l a   c a r t a   y   d e   l a   c a b a l l e r o   e n   e l   p a s t a   e n   e l   m a n t o   d e   l a   c o m o   e n   l a   c a b a l l e r o   a   l a   m e r c e   d e   l a   c a b a l l e r o   \n",
            "Generated Text:\n",
            " tra merced, y esta a todo esta merced de la meno a su caballero a la mano a su la carta y a la caballero a la mano a mi a de la acerta de la venta de la mano a como se de la parte a la señora de la carta y de la caballero en el pasta en el manto de la como en la caballero a la merce de la caballero \n",
            "\n",
            "Epoch: 10, Loss: 1.7172, Accuracy: 46.78%\n",
            "t r a   m e r c e d   d e   l a   m a n o   a   l a   c a r e z a   d e   l a   c o n t e n t a   d e   l a   c a r a   l a   c o n t i d a d o   d e   l a   c a b a l l e r   a   l a   c o n t i d a d o   d e   l a   m u e r t a   d e   l a   m e r a d o   d e   l a   c a r e z a   y   a   l a   a c i a d a   d e   l a   c u e r t a   d e   l a   c o n t i r a r   d e   l a   m e r e c e r   e n   e l   c a b a l l e r o   d e   l a   m u c h o   d e   l a   c o n t i d a d o   d e   l a   m e r c e d   d e   l a   c o n t i r a d o   p a r a   d e   l a   m u e r t e   d e   l a   c o n t i \n",
            "Generated Text:\n",
            " tra merced de la mano a la careza de la contenta de la cara la contidado de la caballer a la contidado de la muerta de la merado de la careza y a la aciada de la cuerta de la contirar de la merecer en el caballero de la mucho de la contidado de la merced de la contirado para de la muerte de la conti\n",
            "\n",
            "Epoch: 11, Loss: 1.6922, Accuracy: 47.63%\n",
            "t r a   m e r c e d   q u e   e s t a b a   e n   e l   c o r t e   d e   l a   p a r t e   d e   l a   m a n o   a   l a   c a r a   y   a   d e   a l l a   c o n   e l   m a n o   a   d e   s u   e s t a   d e   d e   s u   c a r t a ,   y   a   l a   c a b a l l e r a   d e   l a   c a r a   d e   d e   s u   e s t a r   a   t o d o   e l   c a b a l l e r o   a   p o r   d e   s e   e l   c a r t a   d e   d e   d e   l a   c o r a   d e   l a   c a r a   d e   l a   c a r a   y   e n   l a   c o r t e   d e   l a   c a r t a   d e   l a   m e r c e d   d e   l a   m e r o s   d e   l a   \n",
            "Generated Text:\n",
            " tra merced que estaba en el corte de la parte de la mano a la cara y a de alla con el mano a de su esta de de su carta, y a la caballera de la cara de de su estar a todo el caballero a por de se el carta de de de la cora de la cara de la cara y en la corte de la carta de la merced de la meros de la \n",
            "\n",
            "Epoch: 12, Loss: 1.6680, Accuracy: 48.23%\n",
            "t r a   m e r c e d   d e   l a   c a r a   y   a   l a   c a r a   y   e n   l a   c o n t e n t a   d e   l o s   d e   l a   m a n o   a   l a   m a n o   a   p a r a   l a   c a r a   y   a   s u   c a b a l l e r o ,   y   a   l a   v e n t e   d e   l a   m a n o   a   l o s   c o m o   s i   l o   q u e   e n   l a   m a n o   a   s u   c a r a   d e   l a   v e n t a   d e   l a   m a n o   a   m i   a n t e n t e   a   l a   m a n o   a   l a   m a n o   a   l a   v e n t a   d e   l a   m a n o   a   l a   m e n o   a   l a   c a r a   q u e   l a   m a n o   a   l a   m a n o   a   \n",
            "Generated Text:\n",
            " tra merced de la cara y a la cara y en la contenta de los de la mano a la mano a para la cara y a su caballero, y a la vente de la mano a los como si lo que en la mano a su cara de la venta de la mano a mi antente a la mano a la mano a la venta de la mano a la meno a la cara que la mano a la mano a \n",
            "\n",
            "Epoch: 13, Loss: 1.6474, Accuracy: 48.90%\n",
            "t r a   m e r c e d   s e   h a b í a   d e   d e   s u   m e r c e d   d e   l a   m a n o   a   l a   m e r c e d   q u e   l o   q u e   s e   p u e s t o   q u e   s e   h a b í a   d e   s u   l a s   d e   s u s   d e   l a   c o r t i a n d o   e n   e l   c u a l   d e   l a   m i s a   d e   l a   m a n o   a   s u   a l g u n a   d e   l a   m e r c e d   q u e   s e   h a b í a   s e ñ o r   d e   l a   c a r t a   d e   l a   m a n o   a   l a   c a b a l l e r a ,   q u e   e l   m a n c h o   p a n z a   d e   l a   m a n o   a   d e   l a   c a r t a   d e   l a   m a n o   a   \n",
            "Generated Text:\n",
            " tra merced se había de de su merced de la mano a la merced que lo que se puesto que se había de su las de sus de la cortiando en el cual de la misa de la mano a su alguna de la merced que se había señor de la carta de la mano a la caballera, que el mancho panza de la mano a de la carta de la mano a \n",
            "\n",
            "Epoch: 14, Loss: 1.6272, Accuracy: 49.40%\n",
            "t r a   m e r c e d   d e   l a   m a n o   d e   l a   m a n o   d e   l o s   d e   l o s   d e   l a   m i s t o   d e   l a   c o m a   d e   l a   m a n o   q u e   l e   h a b í a   c o m e n t e   d e   l a   c o r t a   d e   l a   c a s a   q u e   l e   h a b í a   e s t a b a   d e   l a   c o r t a   d e   l a   m a n o   d e   l a   p r e s e n t e   d e   l a   m a n o   d e   l a   m e r i e n t e   l e   p a r a   l a   p a r a   d e   l a   c u a l   d e   l a   c o r t e   d e   l a   c a b a l l e r a ,   c o n   l a   m e n o   d e   l a   c a r e z a   y   d e   l a   m e \n",
            "Generated Text:\n",
            " tra merced de la mano de la mano de los de los de la misto de la coma de la mano que le había comente de la corta de la casa que le había estaba de la corta de la mano de la presente de la mano de la meriente le para la para de la cual de la corte de la caballera, con la meno de la careza y de la me\n",
            "\n",
            "Epoch: 15, Loss: 1.6108, Accuracy: 49.85%\n",
            "t r a   m e r c e d   d e   l a   m a n o   a   l a   m i s a   d e   l a   m i s a   d e   l a   m e r c e d   d e   l a   m e n o   a   l a   c a r t a   d e   l a   m a n o   a   l a   m e n o   a   s u   a m a n t e   d e   l a   m a n o   a   l a   c a b a l l e r a ,   y   a l l í   l a   p a r t e   d e   l a   m a n o   a   l a   c a b a l l e r a ,   y   a   l a   s e ñ o r a   d e   l a   h a b í a   d e   l a   m a n o   c o m o   s i   p o r   l a   m a n o   a   l a   c a s a   a   l a   m a n t a   d e   l a   c a r a   y   a   m a n c h a   d e   l a   p r e s t a   a   l a   c \n",
            "Generated Text:\n",
            " tra merced de la mano a la misa de la misa de la merced de la meno a la carta de la mano a la meno a su amante de la mano a la caballera, y allí la parte de la mano a la caballera, y a la señora de la había de la mano como si por la mano a la casa a la manta de la cara y a mancha de la presta a la c\n",
            "\n",
            "Epoch: 16, Loss: 1.5941, Accuracy: 50.40%\n",
            "t r a   m e r c e d   d e   s u   a m o   d e   l a   c u a l   d e   l a   c a s a   q u e   l e   h a b í a   d e   l a   m e n o   a   l a   l a   d e   s u   p e n t a   d e   l a   p r e g u n t a   d e   l a   m e n o   d e   l a   m e n o   d e   l a   m a n t a   d e   l a   p r e g u n t a   d e   l a   m u e r t e ,   y   a   l a   c a s a   d e   l a   m e n o   a   l a   m e n o   d e   l a   m a n o   q u e   l e   h a b í a   d e   s u   p e r d a d o   d e   l a   m e n o   a   l a   c a s a   l a   c a b a l l e r a ,   y   a   l o   q u e   l a   h a b í a   l a   m e n o   a \n",
            "Generated Text:\n",
            " tra merced de su amo de la cual de la casa que le había de la meno a la la de su penta de la pregunta de la meno de la meno de la manta de la pregunta de la muerte, y a la casa de la meno a la meno de la mano que le había de su perdado de la meno a la casa la caballera, y a lo que la había la meno a\n",
            "\n",
            "Epoch: 17, Loss: 1.5778, Accuracy: 50.90%\n",
            "t r a   m e r c e d   d e   l a   m a n o   c o n   l a   c a b a l l e r í a   y   l a   c a b a l l e r a ,   y   e l   c a b a l l e r o   m e   h a   l a   c a s a   q u e   s e   h a b í a   c o m e n z a n   d e   l a   c a r t a   d e   l a   m a n c h o   y   p o r   l a   m e n o   q u e   l a   h a b í a   m a n o s   y   d e   l a   c a r t a   d e   l a   c o n t e n t a d o   e n   l a   m a n c h a   d e   l a   m a n t a d   d e   l a   c a s a   y   c o n   l a   m u c h a   d e s t o   c a b a l l e r o   d e   l a   c a s a   q u e   s e   h a b í a   m u c h o   h a b í a   \n",
            "Generated Text:\n",
            " tra merced de la mano con la caballería y la caballera, y el caballero me ha la casa que se había comenzan de la carta de la mancho y por la meno que la había manos y de la carta de la contentado en la mancha de la mantad de la casa y con la mucha desto caballero de la casa que se había mucho había \n",
            "\n",
            "Epoch: 18, Loss: 1.5634, Accuracy: 51.32%\n",
            "t r a   m e r c e d   d e   l a   m a n o   d e   l a   m a n o   a   s u   s e ñ o r a   d e   l a   m a n o   d e   l a   m a n o   d e l   d e s t o   c o m o   e s t a   m e r c e d   d e   s u   s e ñ o r   d e   l a s   m a n o s   d e   l a   m e r c e d ,   y   a l   c a b a l l e r o   a l   c a b a l l e r o   d e   l a   m a n o   y   d e   l a   m a n o   a   l a   m a n o   d e   l a   m i s m o   d e   l a   m e n o   d e   l a   m u c h o   q u e   l a   m u e r t e   d e   l a   m a n o   a   l a   m i s a   d e   l a   m a n o   a   l a   c o r t a   d e   l a   m a n o   a   \n",
            "Generated Text:\n",
            " tra merced de la mano de la mano a su señora de la mano de la mano del desto como esta merced de su señor de las manos de la merced, y al caballero al caballero de la mano y de la mano a la mano de la mismo de la meno de la mucho que la muerte de la mano a la misa de la mano a la corta de la mano a \n",
            "\n",
            "Epoch: 19, Loss: 1.5509, Accuracy: 51.62%\n",
            "t r a   m e r c e d   d e   l a   b r a z a   d e   l a   m a n o   a   l a   c a s a   y   a   d e   s u   e n t r a r   a   l a   c a r r a   d e   s u   h a b i e r o   d e   l a   m a n o   a   l a   c a b a l l e r í a   y   l a   m e n o   a   l a   c a r r a   d e   l a   t r i s t e   c a b a l l e r o ,   y   a   l o s   c o n   e l   c a b a l l e r o   a n d a n t e   d e   l a   m a n c h a   d e   l a   a n t a n t e   d e   l a   c a s a ,   y   a   l a   m e n o   d e   l a   c a r t a   d e   l a   m e n o   a   s u   c a s t a   d e   l a   m a n o   a   l a   c a r t a   d e \n",
            "Generated Text:\n",
            " tra merced de la braza de la mano a la casa y a de su entrar a la carra de su habiero de la mano a la caballería y la meno a la carra de la triste caballero, y a los con el caballero andante de la mancha de la antante de la casa, y a la meno de la carta de la meno a su casta de la mano a la carta de\n",
            "\n",
            "Epoch: 20, Loss: 1.5363, Accuracy: 52.10%\n",
            "t r a   m e r c e d   d e   s u   d e s t o   p a r e c e   y   a l g u n a   d e   l a   m a n o   a   d e   a l g u n a   d e   l a   m a n t e   d e   l a   m a n o   a   l a   m a n o   a   l a   p a r t e   d e   l a   c a s a   q u e   n o   s e   p o r   l a   m a n o   a   l a   m e n o   d e   l a   c a r r a ,   y   d e   d o n   q u i j o t e   d e   l a   c a s a   q u e   l a   h a b í a   c o m e n z a   d e   l a   m a n o   a   s u   s e ñ o r   d e   l a   c a r t a   d e   l a   m a n o   a   c a b a l l e r o ,   y   a   l a   m e r c e d ,   s e ñ o r   d e   l a   m a n o \n",
            "Generated Text:\n",
            " tra merced de su desto parece y alguna de la mano a de alguna de la mante de la mano a la mano a la parte de la casa que no se por la mano a la meno de la carra, y de don quijote de la casa que la había comenza de la mano a su señor de la carta de la mano a caballero, y a la merced, señor de la mano\n",
            "\n",
            "Epoch: 21, Loss: 1.5267, Accuracy: 52.33%\n",
            "t r a   m e r c e d   d e   l a   c o r t a   d e   l a   c a s a ,   y   a   l a   m a n o   a   l a   m a n o   a   m a n o   a   d e   l a s   c a s a s   s u   l a s   d e   l a s   d e s t a s   d e   l a s   c o n s i m i e n t o s   d e   l a s   d e s t o s   d e   l o s   d e   l a s   c a b a l l e s ,   d e   l o s   c a b a l l e r o s   a n d a n t e s   d e   l a   c a r r a   d e   l a   m a n c h a   d e   s u   a m o ,   y   a   l o s   c a b a l l e r o s   d e   l a   c a r r a ,   y   a   l a   c o n t e n t a d o   e n   e l   m u e r t o ,   y   a l   c o n t e n t o   d \n",
            "Generated Text:\n",
            " tra merced de la corta de la casa, y a la mano a la mano a mano a de las casas su las de las destas de las consimientos de las destos de los de las caballes, de los caballeros andantes de la carra de la mancha de su amo, y a los caballeros de la carra, y a la contentado en el muerto, y al contento d\n",
            "\n",
            "Epoch: 22, Loss: 1.5149, Accuracy: 52.58%\n",
            "t r a   m e r c e d   d e   l a   c a r t a   d e   l a   m a n o   a   d e   l a   c a s a   y   a l g u n a   d e   l a   a m i g a ,   y   a   l o s   c o m o s   d e   l a s   m a n o s   d e   l o s   d o s   d e s t o   c o m o   y   p o r   l a   m e n o   a   l a   p r o v e c h a   d e   l a   c a s a ,   y   a l   m a n e r a   q u e   l e   h a b í a   e n   e l   p a s t o   e n   l a   g r a n d e   a   s u   p a r t e   d e   l a   c a s a   y   a l g u n a   c o n   l a   c o s a   d e   s u   p o r   e l   c a b a l l e r o ,   y   a l   s e ñ o r   d e   l a   p r o v e c i ó \n",
            "Generated Text:\n",
            " tra merced de la carta de la mano a de la casa y alguna de la amiga, y a los comos de las manos de los dos desto como y por la meno a la provecha de la casa, y al manera que le había en el pasto en la grande a su parte de la casa y alguna con la cosa de su por el caballero, y al señor de la proveció\n",
            "\n",
            "Epoch: 23, Loss: 1.5028, Accuracy: 52.95%\n",
            "t r a   m e r c e d   d e   l a   m a n o   d e   l a   m a n c h a   q u e   d e   l a   c a r t a   d e   l a   c a s a ,   y   a   l o   q u e   l a   c a u s a   d e   l a   c a s a   y   l a   s e ñ o r a   d e   l a   c a r r a   d e   l a   c a r r a   d e   l a   c a m i l a   d e   l a   c a r r a   d e   l a   c a r r a   d e   l a   c a r r a   d e   s u   p a r t e   d e   l a   c a s a   q u e   l a   m a n o   a   l a   c a s a   q u e   l a   m a n o   a   l a   c a s a   q u e   d e c i r   a   l a   c a r r a   d e   l a   p r i m e r o   d e   l a   c a u s a   d e   l a   c \n",
            "Generated Text:\n",
            " tra merced de la mano de la mancha que de la carta de la casa, y a lo que la causa de la casa y la señora de la carra de la carra de la camila de la carra de la carra de la carra de su parte de la casa que la mano a la casa que la mano a la casa que decir a la carra de la primero de la causa de la c\n",
            "\n",
            "Epoch: 24, Loss: 1.4931, Accuracy: 53.15%\n",
            "t r a   m e r c e d   d e   s e r   d e   l a   b a r t a   y   d e   l a   p r e s e n c i a ,   y   a   l o s   c o m o s   d e   l a   c a r r a   d e   l a   p r e s e n c i a ,   y   a   m i   a m o   n o   s e   h a   d e   s e r   l a   c a b a l l e r a ,   y   a   l o s   p a r e c e s ,   y   a   l a   m a n o   a   c u a n d o   e s t o   e s t a   d e   s u   p a r t e ,   y   e n   e s t o   n o   s e   p u e d e   s e ñ o r   d e   s u   p a r t e   d e   l a   m a n c h a   d e   m e   h a   c a b a l l e r o ,   y   e n   e l   m u s t o   d e   l a   m e n o   a   l a   c a r \n",
            "Generated Text:\n",
            " tra merced de ser de la barta y de la presencia, y a los comos de la carra de la presencia, y a mi amo no se ha de ser la caballera, y a los pareces, y a la mano a cuando esto esta de su parte, y en esto no se puede señor de su parte de la mancha de me ha caballero, y en el musto de la meno a la car\n",
            "\n",
            "Epoch: 25, Loss: 1.4847, Accuracy: 53.50%\n",
            "t r a   m e r c e d   d e   l a   m a n t a   p a r t e   d e   l a   c a s a   d e   l a   m a n o   d e   l a   c a s a   q u e   n o   s e   h a n   d e   l a   m e n o   a   l a   l a   l a   r e s p o n d i ó   d e   l a   c a r t a ,   y   a   m i   s e ñ o r a   d e   l a   m a n o   d e   l a   m a n o   a   l a   c a s a   q u e   s e   h a   d e   l a   m a n o   a   l a   c a s a   y   l a   e n t r a r a   d e   l a   c a s a   d e   l a   p a r t e   d e   l a   c a s a   q u e   t e n í a   e n   l a   m e n o   a   l a   c a u s a   d e   l a   m a n c h a   d e   l a   m a n c \n",
            "Generated Text:\n",
            " tra merced de la manta parte de la casa de la mano de la casa que no se han de la meno a la la la respondió de la carta, y a mi señora de la mano de la mano a la casa que se ha de la mano a la casa y la entrara de la casa de la parte de la casa que tenía en la meno a la causa de la mancha de la manc\n",
            "\n",
            "Epoch: 26, Loss: 1.4704, Accuracy: 53.93%\n",
            "t r a   m e r c e d   d e   l a   m a n o   a   d e   l a   p r i m e r a   a   l a   c a s a   y   a   s u   a m o ,   y   e n   e s t o   e s t a b a   e n   l a   m a n o   a   l a   c a s a   y   a   c a b a l l e r o   a n d a n t e   y   p o r   l a s   m a n o s   d e   l a   p a l a b r a   d e   l a   m a n o   a   c a b a l l e r o   c o n   l o s   c o m o t o s ,   y   a   t o d o   e s t o   e s t a b a   p r e g u n t a d o   d e   l a   c a s a ,   y   a l   c u a l   d e   l a   l a   p e n s a n   e n   l a   m a n o   a   l a   p r i m e r a   d e   l a   p r i m e r o   y   \n",
            "Generated Text:\n",
            " tra merced de la mano a de la primera a la casa y a su amo, y en esto estaba en la mano a la casa y a caballero andante y por las manos de la palabra de la mano a caballero con los comotos, y a todo esto estaba preguntado de la casa, y al cual de la la pensan en la mano a la primera de la primero y \n",
            "\n",
            "Epoch: 27, Loss: 1.4651, Accuracy: 54.01%\n",
            "t r a   m e r c e d   d e   l a   m a n o   d e   l a   c a r r a   d e   l a   m a n o   a   l a   c a s a   y   a   s u   p r e s t r a   d e   l a   m a n o ,   y   e l   p a r t e   d e   l a   m a n o   a   l a   m a n o   a   l a   c a s a   y   a l g u n a   d e   l a   m a n o ,   y   a l   c a b a l l e r o   d e   l a   m a n o   d e   l a   p e n s a n z a ,   y   a   l a   m e n o   d e   l a   m a n o   y   d e   l a   m a n o   y   a l g u n a   d e   l a   m a n o   a   d e   l a   m i s a   d e   l a   c a s a ,   y   a   l a   m e n o   a   l a   c a u s a   d e   l a   p r i \n",
            "Generated Text:\n",
            " tra merced de la mano de la carra de la mano a la casa y a su prestra de la mano, y el parte de la mano a la mano a la casa y alguna de la mano, y al caballero de la mano de la pensanza, y a la meno de la mano y de la mano y alguna de la mano a de la misa de la casa, y a la meno a la causa de la pri\n",
            "\n",
            "Epoch: 28, Loss: 1.4555, Accuracy: 54.29%\n",
            "t r a   m e r c e d   d e   l a   m a n o   d e   l a   c a r t a   y   a   c o n t e n t a r   l a   p a r t e   d e   l a   c a r r e   a   l o s   a m o   d e   l a   c u a l   d e   l a   c u a l   d e   l a   c a r r a   d e   l a   m a n o   d e   l a   c o r t a   d e   l a   e n c a r t e   d e   l a   c a s a   y   d e   l a   s e ñ o r a   d e   l o s   p r o s u n c i a s   q u e   l a   s e ñ o r a   d e   l a s   c o r t a s   d e   l a   c a r r a   d e   l a   p r e s u n t a d   d e   l a   p r e s e n c i a   d e   l a   c a r r a   d e   l a   c a u s a   d e   l a   c a r r \n",
            "Generated Text:\n",
            " tra merced de la mano de la carta y a contentar la parte de la carre a los amo de la cual de la cual de la carra de la mano de la corta de la encarte de la casa y de la señora de los prosuncias que la señora de las cortas de la carra de la presuntad de la presencia de la carra de la causa de la carr\n",
            "\n",
            "Epoch: 29, Loss: 1.4463, Accuracy: 54.52%\n",
            "t r a   m e r c e d   q u e   n o   s e   s e   h a   d e   s e r   l a   m a n o   a   l a   m a n o   a   l a   c a u s a   d e   l a   m a n o   a   l a   m a n o   a   l a   m a n o   a   l a   m a n o   a   l a   m a n o   a   l a   p r o v e c h a   d e   l a   m a n o   y   a   s u   s e ñ o r a   d e   l a   m a n o   y   a l g u n a   c o n   l a   p a r e c e r   a   l a   m a n o   a   l a   m a n o   a   l a   m a n o   a   l a   c a s a ,   y   e n   e l   c a b a l l e r o   d e   l a   m a n o   a   l a   m a n o   y   a   l a   c a s a   y   a   l a   m a n o   a   l a   m a n \n",
            "Generated Text:\n",
            " tra merced que no se se ha de ser la mano a la mano a la causa de la mano a la mano a la mano a la mano a la mano a la provecha de la mano y a su señora de la mano y alguna con la parecer a la mano a la mano a la mano a la casa, y en el caballero de la mano a la mano y a la casa y a la mano a la man\n",
            "\n",
            "Epoch: 30, Loss: 1.4366, Accuracy: 54.90%\n",
            "t r a   m e r c e d   d e   l a   m a n o   d e   d o n   q u i j o t e   e n   e l   p r o s u r   a n t e   l a   p r e s e n t e   d e   l a   c a s a   y   a l g u n a   d e   l a   m a n o   a   l a   c a s a   y   e l   p r o s u r t a d o   e n   e l   p e n s o m o s   d e   l a   m e n o ,   y   a   l o s   c o n t e n t o s   d e   l a   m a n o   d e   l o s   c o m p a ñ e r o s   s e   d e   l a   m a n o   a   l a   c a s a   y   s i   p o d í a   q u e   l a   c a s a   y   a l g u n o   c o n   l a   m a n o   a   l a   m a n o   a   l a   p e n s a n z a ,   y   a   s u   s e \n",
            "Generated Text:\n",
            " tra merced de la mano de don quijote en el prosur ante la presente de la casa y alguna de la mano a la casa y el prosurtado en el pensomos de la meno, y a los contentos de la mano de los compañeros se de la mano a la casa y si podía que la casa y alguno con la mano a la mano a la pensanza, y a su se\n",
            "\n",
            "Epoch: 31, Loss: 1.4295, Accuracy: 54.99%\n",
            "t r a   m e r c e d   d e   l a   c a r t a   d e   l a   m a n o   a   l a   p r o v e c h a   d e   l a   m a n o   d e   l a   c o r t a   d e   l a   m a n o   a   l a   m a n o   a   l a   p r o v e c h a   d e   l a   m a n o   a   l a   m a n o   a   l a   m a n o   a   l a   c a r r a   d e   l a   p r o v e c h a   d e   l a   m a n o   a   l a   m a n o   a   l a   c a r t a   d e   l a   m a n o   a   l a   c a s a   y   a   c o n d e z a   d e   l a   m a n o   d e   l a   p r i m e r a   l a   d e   l a   m a n o   a   l a   p r o v e c h a   d e   l a   m a n o ,   y   a   s u   \n",
            "Generated Text:\n",
            " tra merced de la carta de la mano a la provecha de la mano de la corta de la mano a la mano a la provecha de la mano a la mano a la mano a la carra de la provecha de la mano a la mano a la carta de la mano a la casa y a condeza de la mano de la primera la de la mano a la provecha de la mano, y a su \n",
            "\n",
            "Epoch: 32, Loss: 1.4240, Accuracy: 55.11%\n",
            "t r a   m e r c e d   d e   l a   c a b a l l e r a ,   y   a l   m a n o s   d e   l a   m a n o   c o n   l a   m a n o   a   s u   s e ñ o r   d e   l a   m a n o   a   l o s   p a r e c e r a s   d e   l a   m a n o   y   a l g u n a   s e   l e   d i j o   a   l a   m a n o ,   y   a l   c a b a l l e r o   p r i s t a   d e   l a   m a n o   a   l a   c o m p a c í a   y   d e   l a   m a n o   a   d e   l a   v e n t a   d e   s u   p a r e c e r ,   q u e   e s t á   e n   l a   c a r t a   y   a l   c a b a l l e r o   a n d a n t e   d e   l a   m a n o ,   y   l o s   t e n g o   d \n",
            "Generated Text:\n",
            " tra merced de la caballera, y al manos de la mano con la mano a su señor de la mano a los pareceras de la mano y alguna se le dijo a la mano, y al caballero prista de la mano a la compacía y de la mano a de la venta de su parecer, que está en la carta y al caballero andante de la mano, y los tengo d\n",
            "\n",
            "Epoch: 33, Loss: 1.4139, Accuracy: 55.41%\n",
            "t r a   m e r c e d   d e   l a   m a n c h a   p a r a   q u e   l a   h a b í a   c o n t e n t o . \n",
            " \n",
            " - a s í   e s   - r e s p o n d i ó   s a n c h o - ,   y   a s í ,   s e ñ o r   d e   l a   m e n o ,   y   a   l o   q u e   h a b í a   p o r   d e c i r   q u e   s e   l e   v i e r e   e l   c a b a l l e r o   a n d a n t e   q u e   a l g u n a   c o n   l a   v e n t a   d e   s u   p a r t e   d e   l a   c a s a   y   e n   l a   p r o v e c h a   d e   s u   p a r t e   d e   l a   m a n c h a   d e   l o   q u e   h a   d e   c o n t e n t a   d e   l a   p r i m e r a   d e \n",
            "Generated Text:\n",
            " tra merced de la mancha para que la había contento.\n",
            "\n",
            "-así es -respondió sancho-, y así, señor de la meno, y a lo que había por decir que se le viere el caballero andante que alguna con la venta de su parte de la casa y en la provecha de su parte de la mancha de lo que ha de contenta de la primera de\n",
            "\n",
            "Epoch: 34, Loss: 1.4086, Accuracy: 55.56%\n",
            "t r a   m e r c e d   d e   s u   p o r t e   a   l a   m a n o   a   l a   m a n o   a   l a   m a n o   a   l a   p e n s a ,   y   a   l a   m a n o   a   l a   m a n o   a   l a   m a n o   a   l a   c a r r a   d e   l a   p r i m e r a   a   l a   m a n o   a   l a   v e n t a   d e   d e c i r   a   s e r   a   l o   q u e   m e   h a   d e   s e r   l a   m a n o   a   l a   m a n o   a   t o d o   e l   c a b a l l e r o   a n d a n t e   d e   l a   m a n o   a   l a   c a r r a   d e   l a   p r i m e r a   y   d e   l a   m a n o   a   l a   m a n o   a   l a   m a n o   a   l a   \n",
            "Generated Text:\n",
            " tra merced de su porte a la mano a la mano a la mano a la pensa, y a la mano a la mano a la mano a la carra de la primera a la mano a la venta de decir a ser a lo que me ha de ser la mano a la mano a todo el caballero andante de la mano a la carra de la primera y de la mano a la mano a la mano a la \n",
            "\n",
            "Epoch: 35, Loss: 1.3990, Accuracy: 55.97%\n",
            "t r a   m e r c e d   d e l   p a r e c e r   d e   l a   c a s a   y   a   m i   a m o ,   d e   l a   c u a l   d e   l a   m e n o   q u e   l o s   c a b a l l e r o s   a n d a n t e s   d e   l a   c o s a   d e   l a   p r o v e c i ó   d e   l a   c a u s a   d e   l a   m a n o ,   y   a   l a   v e n t a r   a   l o s   c a b a l l e r o s   a n d a n t e s   d e   l a   c o s a   d e   l a   c o r a   d e   s u   p a r t e ,   y   a   l o   q u e   s e   l a   p a r e c e r   a   l a   v e n t a   d e   s u   p a r t e   d e   l a   c a m i l a   d e   l a   c a u s a   d e   l a   \n",
            "Generated Text:\n",
            " tra merced del parecer de la casa y a mi amo, de la cual de la meno que los caballeros andantes de la cosa de la proveció de la causa de la mano, y a la ventar a los caballeros andantes de la cosa de la cora de su parte, y a lo que se la parecer a la venta de su parte de la camila de la causa de la \n",
            "\n",
            "Epoch: 36, Loss: 1.3936, Accuracy: 56.02%\n",
            "t r a   m e r c e d   d e   s u   p a r t e ,   y   a   l o   q u e   s e   l e   d i j o   a   l a   c a s a   d e   d o n   q u i j o t e   d e   l a   c a r r a   d e   l a   p a r t e   d e   l a   c a u s a   d e   l a   m a n o   a   l a   m a n c h a   d e   l a   c a r t a   d e   l a   p r e s e n c i a   d e   l a   s u e r t e ,   y   e n   e s t o   e s t a b a   e n   e l   m a n d o   d e l   c a b a l l e r o ,   y   s i   f u e r a   a l g u n a   d e   l a   p r i m e r a   d e   l a   c o m p a s i ó n   d e   l a   c a r r a ,   y   a   m i   s e ñ o r   d e   l a   c a r r \n",
            "Generated Text:\n",
            " tra merced de su parte, y a lo que se le dijo a la casa de don quijote de la carra de la parte de la causa de la mano a la mancha de la carta de la presencia de la suerte, y en esto estaba en el mando del caballero, y si fuera alguna de la primera de la compasión de la carra, y a mi señor de la carr\n",
            "\n",
            "Epoch: 37, Loss: 1.3855, Accuracy: 56.30%\n",
            "t r a   s e ñ o r   q u e   s e   l e   h a b í a   p a r t e   d e   l a   p r o v e c i ó   d e   l a   m a n o   a   l a   c a s a   y   d e   l a   p r o v e c i ó   d e   l a   m a n o   a   d e s c u r d i d a d   y   c o n   e s t a   p r i m e r a   d e   l a   m e n o   q u e   s e   h a   d e   s u   p a r t e   d e   l a   p r i m e r a   d e   l a   m a n c h a   d e   l a   p r o v e c i ó   l o s   d e s p e r t o s   y   a   l a   p r o v e c i ó   d e   s u   p a r t e ,   y   a   m i   s e ñ o r   d e   l a   m a n o   d e   l a   c u a l   y   e s t a b a   e n   l a   m a n \n",
            "Generated Text:\n",
            " tra señor que se le había parte de la proveció de la mano a la casa y de la proveció de la mano a descurdidad y con esta primera de la meno que se ha de su parte de la primera de la mancha de la proveció los despertos y a la proveció de su parte, y a mi señor de la mano de la cual y estaba en la man\n",
            "\n",
            "Epoch: 38, Loss: 1.3778, Accuracy: 56.41%\n",
            "t r a   m e r c e d   d e   s u   p r e s e n t a   d e   l a   v e n t a   d e   d e   s u   m u e r t e ,   y   a   l o   q u e   s e   l e   d i j o   a   l a   c a r r a   d e   l a   c a s a   y   a   s u   s e ñ o r   d e   l a   m a n c h a   y   p r o v e c i ó n   d e   l a s   c a s a s ,   y   l o   q u e   s e   h a b í a   s e r   d e   l a   m a n c h a   q u e   t e n í a   p r o v e c i ó   l a   c u a l ,   y   d e s e r t a r   a   l a   c o r t a   d e   l a   m a n c h a   y   p r o v e c i ó n   d e   l a   c a r t a   y   a   c o n t e n t o   d e   l a   s e ñ o r a   d \n",
            "Generated Text:\n",
            " tra merced de su presenta de la venta de de su muerte, y a lo que se le dijo a la carra de la casa y a su señor de la mancha y proveción de las casas, y lo que se había ser de la mancha que tenía proveció la cual, y desertar a la corta de la mancha y proveción de la carta y a contento de la señora d\n",
            "\n",
            "Epoch: 39, Loss: 1.3732, Accuracy: 56.65%\n",
            "t r a   m e r c e d   d e   l a   p r i m e r a   q u e   l e   p u e s t a   a n t e   l a   p r o v e c h a   d e   l a   c u a l   d e   l a   m a n o   a   l a   p r o v e c i ó   d e   l a   l a s   d e   l a s   p a r t e s   d e   l a   c a s a   y   a   l a   s e ñ o r a   d e l   m a n d o   q u e   d e   l a   c a s a   d e   m i   a m o ,   y   a   l a   c a s a   y   a   v e r d a d   d e   l o s   c o m o t o s .   e n   l a   c u a l   p r o v e c h a   d e   l a   p r o v e c i ó   d e   l a   c a s a ,   y   a l   c a b a l l e r o   a n d a n t e   s i   p u e d e   s e r   d \n",
            "Generated Text:\n",
            " tra merced de la primera que le puesta ante la provecha de la cual de la mano a la proveció de la las de las partes de la casa y a la señora del mando que de la casa de mi amo, y a la casa y a verdad de los comotos. en la cual provecha de la proveció de la casa, y al caballero andante si puede ser d\n",
            "\n",
            "Epoch: 40, Loss: 1.3662, Accuracy: 56.79%\n",
            "t r a   m e r c e d   d e l   c o n t e n t o .   y   e s t a b a   p a r e c e r   a   s u   s e ñ o r a   d e l   c o n t e n t o . \n",
            " \n",
            " - a s í ,   s e ñ o r   d e   s a b e r   a l l í ,   q u e   s e   l e   d i j o   q u e   s e   h a b í a   d e   s e r   l o s   d e   l a s   m a n o s   d e   l a   c o n t e n c i a   d e   l a   c a s a   y   a l g u n a   g r a n d e   c o n t i d a   d e   l a   m a n c h a   d e l   c u a l   d e   l a   m a n c h a   d e   l a   c a u s a   d e   l a   c o n a l l a   a   l a   c a u s a   d e   l a   c a s a   q u e   s e   h a b í a   s e r   d \n",
            "Generated Text:\n",
            " tra merced del contento. y estaba parecer a su señora del contento.\n",
            "\n",
            "-así, señor de saber allí, que se le dijo que se había de ser los de las manos de la contencia de la casa y alguna grande contida de la mancha del cual de la mancha de la causa de la conalla a la causa de la casa que se había ser d\n",
            "\n",
            "Epoch: 41, Loss: 1.3589, Accuracy: 56.99%\n",
            "t r a   m e r c e d   d e   l a   p r i m e r a   l a   p r o v e s i ó n   d e   l a   c a r r a   d e   l a   m a n o   a   l a   m a n o   a   l a   m a n o   a   l a   p r o v e s a   a   l a   c a r r a   d e   l a   p r o v e c i ó   d e   l a   m a n o   q u e   m e   h a   d i c h o   d e   l a   p r i m e r o   y   a   s u   s e ñ o r a   d e   l a   c o n t a n t e   d e   l a   m a n o   a   l a   m i s m a   d e   l a   m a n o   a   l a   c a u s a   d e   l a   m a n o   a   l a   c a s a   y   e l   c a b a l l e r o   a n d a n t e   q u e   l e   h a b í a   c o r r e c i ó   \n",
            "Generated Text:\n",
            " tra merced de la primera la provesión de la carra de la mano a la mano a la mano a la provesa a la carra de la proveció de la mano que me ha dicho de la primero y a su señora de la contante de la mano a la misma de la mano a la causa de la mano a la casa y el caballero andante que le había correció \n",
            "\n",
            "Epoch: 42, Loss: 1.3538, Accuracy: 57.24%\n",
            "t r a   m e r c e d   d e l   c o n t e n t o ,   y   e l   c u a l   d e   l o   q u e   e s   l a   d e   l a s   d e s e a n d a   a   l a   m a n o   a   d e l   c a b a l l e r o   a n d a n t e ,   y   a l   c a b a l l e r o   d e   l a   c u a l   d e   l a   p r o v e c i ó n   d e   l a   p r i m e r a   d e   l a   m a n c h a   d e   l a   c a s a   y   a   v e r d a d   d e   l o   q u e   e n   l a   m a n o   a   s u   s e ñ o r   d e   l a   m a n c h a   d e   l a   m a n c h a   d e   s u   p a r t e   d e   l a   c u a l   l a   c u a l   d e   l a   c a u s a   d e   l a   \n",
            "Generated Text:\n",
            " tra merced del contento, y el cual de lo que es la de las deseanda a la mano a del caballero andante, y al caballero de la cual de la proveción de la primera de la mancha de la casa y a verdad de lo que en la mano a su señor de la mancha de la mancha de su parte de la cual la cual de la causa de la \n",
            "\n",
            "Epoch: 43, Loss: 1.3479, Accuracy: 57.38%\n",
            "t r a   m e r c e d   d e l   d e   l a   c a r t a   y   a l g ú n   p o r   p a r t e   d e   l a   m a n c h a ,   y   a l   m u e r t o   p a r a   q u e   l a   h a b í a   d e   s e r   l o s   d e   l a s   d e s p a s t a r   p a r a   q u e   l a   l a s   d e   l a   c a s a   y   p a s a n   l a s   m a n o s   d e   l a   p a r t e   d e   l a   c a s a   l a   p a s t a r   a n t e   l a   c a s a   y   d e   l a   l a s   d e   c a s a   y   a   s u   s e ñ o r a   d e   l a   m e n o   q u e   e l   c a b a l l e r o   a n d a n t e   d e   l a   p r i m e r a   e n   l a   m e \n",
            "Generated Text:\n",
            " tra merced del de la carta y algún por parte de la mancha, y al muerto para que la había de ser los de las despastar para que la las de la casa y pasan las manos de la parte de la casa la pastar ante la casa y de la las de casa y a su señora de la meno que el caballero andante de la primera en la me\n",
            "\n",
            "Epoch: 44, Loss: 1.3408, Accuracy: 57.52%\n",
            "t r a   m e r c e d   d e   l a   m a n o   y   p a s a r   e l   p r o m e s a r   d e   l a   c a s a   y   e n t r a n d o   e s t a b a   d e   l a s   c a s a s   s e   l e   p a s a b a n   a   s u   s e ñ o r a   d e l   c a s t i l l o   d e   l a   c a s a   y   d e   l a   c a b a l l e r í a ,   y   a s í ,   s i n   c o n   e l   p r o m e s a   h a b l a r   d e   l a   m a n t a   s e   p o r   e l   c a b a l l e r o   d e   l a   p r i m e r a   q u e   l a   c u a l   d e   s u   p a r t e ,   y   a   l a   m e n o   y   d e   l a   a m i g a   d e   c u a l   d e   l a   c a \n",
            "Generated Text:\n",
            " tra merced de la mano y pasar el promesar de la casa y entrando estaba de las casas se le pasaban a su señora del castillo de la casa y de la caballería, y así, sin con el promesa hablar de la manta se por el caballero de la primera que la cual de su parte, y a la meno y de la amiga de cual de la ca\n",
            "\n",
            "Epoch: 45, Loss: 1.3367, Accuracy: 57.61%\n",
            "t r a   m e r c e d   d e l   m a n d o   d e   l a   c a r r a   d e   l a   l a s   d e   c a s a ,   y   e l   c a b a l l e r o   a n d a n t e   c o n   e l   c a b a l l e r o ,   q u e   n o   s e   a n d i r á n e s   d e   a l l í   l a   p a r t e   d e   l a   c a b a l l e r í a ,   q u e   s e   l l e g a r o   d e   s u   p e r t o ,   y   a l   c a b a l l e r o   a n d a n t e   c o n   e s t a   p r i m e r a   a   l a   c o r r a   d e   l a   p r i m e r a   d e   l a   c a r r a   d e   l a   m a n c h a   c o m o   a   l a   c a r r a   d e   l a   l a s   d e   d i c h o \n",
            "Generated Text:\n",
            " tra merced del mando de la carra de la las de casa, y el caballero andante con el caballero, que no se andiránes de allí la parte de la caballería, que se llegaro de su perto, y al caballero andante con esta primera a la corra de la primera de la carra de la mancha como a la carra de la las de dicho\n",
            "\n",
            "Epoch: 46, Loss: 1.3329, Accuracy: 57.95%\n",
            "t r a   m e r c e d   q u i e r o   d e c i r   a   s u   s e ñ o r a   d e   l a s   m a n o s   d e   l a   c o r t a   y   a l g u n a   d e   l a   p r o v e c i ó   d e   l a   c a r r a ,   y   a   l o   q u e   s e   h a b í a   d e   s e r   d e s t a   d e s c u b i r r a   y   d e s e n t a r   e n   e l   c a r r o ,   y   a   d e   l a   m a n c h a   q u e   l o   q u e   l e   h a b í a   s e ñ o r   c o m o   l a   d e   l a s   c o r t a s   d e   l a   c a r r a   d e   l a   p r i m e r o   y   d e   l a   p r e t e n z a r   l o s   c a b a l l e r o s   a n d a n t e s   d \n",
            "Generated Text:\n",
            " tra merced quiero decir a su señora de las manos de la corta y alguna de la proveció de la carra, y a lo que se había de ser desta descubirra y desentar en el carro, y a de la mancha que lo que le había señor como la de las cortas de la carra de la primero y de la pretenzar los caballeros andantes d\n",
            "\n",
            "Epoch: 47, Loss: 1.3285, Accuracy: 57.95%\n",
            "t r a   m e r c e d   d e l   d e   l a   m a l a   y   e n   s u   m o r o s ,   q u e   e s   l a   m a n o   a   l a   c a r r a   d e   l a   c a u s a   d e   l a   m a n c h a   y   p o r   l a   m a n o   a   l a   m i s a   d e   l a   c a s a   y   a   l a   p r e s e n c i a   d e   l a   m a n c h a   p a r a   q u e   l e   h a b í a   c o r r e r   c o n   e l   p a l a b r a ,   q u e   e n   e l   p r o m e n c i ó   q u e   n o   h a y   r e s p o n d e r   e l   p a l a b r a   d e   l a   c u a l   n i   m a n e r a   q u e   s e   l o   h a b í a   c o n t e r t e   d e   l \n",
            "Generated Text:\n",
            " tra merced del de la mala y en su moros, que es la mano a la carra de la causa de la mancha y por la mano a la misa de la casa y a la presencia de la mancha para que le había correr con el palabra, que en el promenció que no hay responder el palabra de la cual ni manera que se lo había conterte de l\n",
            "\n",
            "Epoch: 48, Loss: 1.3214, Accuracy: 58.17%\n",
            "t r a   m e r c e d   q u e   s e   s e   h a   d e   l a   p r o v e c i ó   d e   l a   c a r r a   d e   l a   c a s a   y   a   s u   s e ñ o r a   d e   l a   c o r r e z a   y   a l g u n a   d e   l a   s e ñ o r a   d e l   c o n t e n t o . \n",
            " \n",
            " - ¡ o h   s i   m e   d i o   - r e s p o n d i ó   s a n c h o - ,   y   a s í ,   s e ñ o r   d o n   q u i j o t e   d e   l a   c a s a   y   p a s a r   e l   p r o p o r   l a   c a s a   y   d e   l a   p a r t e   d e   l a   p r i m e r a   d e   l a   m a n c h a   y   m e n o s   d e   l a   m a n o   y   a l g u n a   n o   e n   e \n",
            "Generated Text:\n",
            " tra merced que se se ha de la proveció de la carra de la casa y a su señora de la correza y alguna de la señora del contento.\n",
            "\n",
            "-¡oh si me dio -respondió sancho-, y así, señor don quijote de la casa y pasar el propor la casa y de la parte de la primera de la mancha y menos de la mano y alguna no en e\n",
            "\n",
            "Epoch: 49, Loss: 1.3181, Accuracy: 58.28%\n",
            "t r a   m e r c e d   d e   s e r   d e   l a   b a r b a   d e   s u   a m o   d e l   p a r e c e r ,   s i   n o   l e   d i j o   a   l a   c a s a   y   d e s t o   m a n o   d e   d e s p a d i e ,   y   a   l a   m e s t a r   a   l a   p r o v e c i ó   d e   s u   p a r e c e r ,   q u e   e s   l o   q u e   l e   h a b í a   s e ñ o r   d e   l a   c a b a l l e r a ,   y   a s í ,   s e ñ o r a   d e   l a   c o n t e n t a d o   e n   l a   m a n o   a   l a   c a s a   y   a   l a   p r o v e c i ó   d e   l a   m a n c h a ,   y   a l   c a b a l l e r o   a n d a n t e ,   a   \n",
            "Generated Text:\n",
            " tra merced de ser de la barba de su amo del parecer, si no le dijo a la casa y desto mano de despadie, y a la mestar a la proveció de su parecer, que es lo que le había señor de la caballera, y así, señora de la contentado en la mano a la casa y a la proveció de la mancha, y al caballero andante, a \n",
            "\n",
            "Epoch: 50, Loss: 1.3169, Accuracy: 58.25%\n",
            "t r a   m e r c e d   d e l   c a s t i l l o   e l   c a b a l l e r o   d e   l a   c u a l   e l   d e s p a r i d o   q u e   s e   h a   d e   l a   p r i m e r a   d e   l a   p r o v e c i ó   d e   s a n c h o   p a n z a   d e   s u   p a r t e ,   y   a   m í   s i   e s   l a   d e   l a s   p a r a s   l a s   p a r a   s u s   c o s a s   d e   l a   c a s a   y   d e   l a   m e n o   a   l a   c o r t a   d e   l a   p r o v e c i ó   d e   l a   m a n c h a   d e   m a n c h a   q u e   e n   l a   m a l   h a b í a   c o m p a ñ e r   l o s   d e   l a s   c o n t e n t a s , \n",
            "Generated Text:\n",
            " tra merced del castillo el caballero de la cual el desparido que se ha de la primera de la proveció de sancho panza de su parte, y a mí si es la de las paras las para sus cosas de la casa y de la meno a la corta de la proveció de la mancha de mancha que en la mal había compañer los de las contentas,\n"
          ]
        },
        {
          "output_type": "execute_result",
          "data": {
            "text/plain": [
              "[0.2750000059604645,\n",
              " 0.34216874837875366,\n",
              " 0.3715437352657318,\n",
              " 0.3933187425136566,\n",
              " 0.40968748927116394,\n",
              " 0.4260999858379364,\n",
              " 0.43687498569488525,\n",
              " 0.44981876015663147,\n",
              " 0.45928749442100525,\n",
              " 0.4678187370300293,\n",
              " 0.47625625133514404,\n",
              " 0.48227500915527344,\n",
              " 0.488993763923645,\n",
              " 0.49403125047683716,\n",
              " 0.4984624981880188,\n",
              " 0.5039874911308289,\n",
              " 0.509024977684021,\n",
              " 0.5131999850273132,\n",
              " 0.5162187218666077,\n",
              " 0.5210375189781189,\n",
              " 0.5232874751091003,\n",
              " 0.5257562398910522,\n",
              " 0.5294625163078308,\n",
              " 0.5315374732017517,\n",
              " 0.5349562764167786,\n",
              " 0.5392937660217285,\n",
              " 0.5401437282562256,\n",
              " 0.5429499745368958,\n",
              " 0.5451750159263611,\n",
              " 0.549049973487854,\n",
              " 0.5498562455177307,\n",
              " 0.5511000156402588,\n",
              " 0.5540500283241272,\n",
              " 0.555593729019165,\n",
              " 0.5596625208854675,\n",
              " 0.5601999759674072,\n",
              " 0.5629687309265137,\n",
              " 0.5640937685966492,\n",
              " 0.5664687752723694,\n",
              " 0.5678625106811523,\n",
              " 0.5698562264442444,\n",
              " 0.5723937749862671,\n",
              " 0.573843777179718,\n",
              " 0.5752187371253967,\n",
              " 0.5761312246322632,\n",
              " 0.5795437693595886,\n",
              " 0.5794749855995178,\n",
              " 0.5816812515258789,\n",
              " 0.5827999711036682,\n",
              " 0.5825062394142151]"
            ]
          },
          "metadata": {},
          "execution_count": 20
        }
      ],
      "source": [
        "history = model.fit(X, y, batch_size=128, epochs=50, verbose=0, callbacks=[generation_callback],validation_split=0.2)\n",
        "history.history['accuracy']"
      ]
    },
    {
      "cell_type": "code",
      "source": [
        "model.save('model.h5')"
      ],
      "metadata": {
        "colab": {
          "base_uri": "https://localhost:8080/"
        },
        "id": "ytbWyz8Bk48H",
        "outputId": "6bda6f4c-2546-4162-a369-957cc9f78f6c"
      },
      "execution_count": 21,
      "outputs": [
        {
          "output_type": "stream",
          "name": "stderr",
          "text": [
            "/usr/local/lib/python3.10/dist-packages/keras/src/engine/training.py:3103: UserWarning: You are saving your model as an HDF5 file via `model.save()`. This file format is considered legacy. We recommend using instead the native Keras format, e.g. `model.save('my_model.keras')`.\n",
            "  saving_api.save_model(\n"
          ]
        }
      ]
    },
    {
      "cell_type": "code",
      "source": [
        "val = generate_text(rawX[0], model)\n",
        "print(val)"
      ],
      "metadata": {
        "colab": {
          "base_uri": "https://localhost:8080/"
        },
        "id": "uTcDplx0k8pe",
        "outputId": "7bc4c2c7-5565-4525-92ea-b40cb97d71ea"
      },
      "execution_count": 22,
      "outputs": [
        {
          "output_type": "stream",
          "name": "stdout",
          "text": [
            "t r a   m e r c e d   d e   l a   m a n o   d e   c o n t e n t o ,   y   e n   e l   p r o m e s a   q u e   l o s   d e s e o s   a   d o n   q u i j o t e   l a s   m a n o s   d e   l a   p a r t e   d e   l a   m a n c h a   q u e   s e   h a b í a   s u   p a r e c e   q u e   l e   d i j o   q u e   e s t a b a   a l l í   e l   p a l o   d e   l a   p r o v e c i ó   d e   l a   m a n c h a ,   y   a   l a   m a n t r a   h a b í a   h a c e r   l a   m a n o   d e   d e   l a   c a r r e   d e   l a   c o m p a t í   u n   h a b r a d o   l a   g a l a n a s ,   y   e l   c a b a l l tra merced de la mano de contento, y en el promesa que los deseos a don quijote las manos de la parte de la mancha que se había su parece que le dijo que estaba allí el palo de la proveció de la mancha, y a la mantra había hacer la mano de de la carre de la compatí un habrado la galanas, y el caball\n"
          ]
        }
      ]
    },
    {
      "cell_type": "markdown",
      "source": [],
      "metadata": {
        "id": "wtHy-zt4lNbL"
      }
    },
    {
      "cell_type": "code",
      "source": [
        "print(rawX[0])"
      ],
      "metadata": {
        "colab": {
          "base_uri": "https://localhost:8080/"
        },
        "id": "pH8KVFYTlRDU",
        "outputId": "439e82bd-f41d-406d-ea53-356341d205bb"
      },
      "execution_count": 23,
      "outputs": [
        {
          "output_type": "stream",
          "name": "stdout",
          "text": [
            "eces en mi entendimiento sobre vues\n"
          ]
        }
      ]
    },
    {
      "cell_type": "markdown",
      "metadata": {
        "id": "pBbmz9DMhVhc"
      },
      "source": [
        "## Entregable\n",
        "\n",
        "Complete los apartados anteriores para entrenar modelos del lenguaje que sean capaces de generar texto con cierto sentido. Comentar los resultados obtenidos y cómo el modelo va mejorando época a época. Comentar las diferencias apreciadas al utilizar diferentes valores de temperatura. Entregar al menos la salida de un entrenamiento completo con los textos generados época a época.\n",
        "\n",
        "El objetivo no es conseguir generar pasajes literarios con coherencia, sino obtener lenguaje que se asemeje en cierta manera a lo visto en el texto original y donde las palabras sean reconocibles como construcciones en castellano. Como ejemplo de lo que se puede conseguir, este es el resultado de generar texto después de 10 epochs y con temperature 0.2:\n",
        "\n",
        "\n",
        "```\n",
        "-----> Epoch: 10 - Generando texto con temperature 0.2\n",
        "Seed: o le cautivaron y rindieron el\n",
        "Texto generado: o le cautivaron y rindieron el caballero de la caballería de la mano de la caballería del cual se le dijo:\n",
        "\n",
        "-¿quién es el verdad de la caballería de la caballería de la caballería de la caballería de la caballería, y me ha de habían de la mano que el caballero de la mano de la caballería. y que no se le habían de la mano de la c\n",
        "\n",
        "```\n",
        "\n",
        "\n"
      ]
    },
    {
      "cell_type": "code",
      "execution_count": 23,
      "metadata": {
        "id": "PJp9Ds55s2O-"
      },
      "outputs": [],
      "source": []
    },
    {
      "cell_type": "code",
      "execution_count": 23,
      "metadata": {
        "id": "GneURbWZxN8d"
      },
      "outputs": [],
      "source": []
    }
  ],
  "metadata": {
    "accelerator": "GPU",
    "colab": {
      "gpuType": "T4",
      "provenance": []
    },
    "kernelspec": {
      "display_name": "Python 3",
      "name": "python3"
    },
    "language_info": {
      "codemirror_mode": {
        "name": "ipython",
        "version": 3
      },
      "file_extension": ".py",
      "mimetype": "text/x-python",
      "name": "python",
      "nbconvert_exporter": "python",
      "pygments_lexer": "ipython3",
      "version": "3.10.9"
    }
  },
  "nbformat": 4,
  "nbformat_minor": 0
}